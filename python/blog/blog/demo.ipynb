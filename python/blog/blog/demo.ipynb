{
 "cells": [
  {
   "cell_type": "code",
   "execution_count": null,
   "id": "80d401ed",
   "metadata": {},
   "outputs": [],
   "source": [
    "import pandas as pd\n",
    "from d20221030_pd_sweng.flower_analyzer import *\n",
    "iris_data_url = \"https://raw.githubusercontent.com/uiuc-cse/data-fa14/gh-pages/data/iris.csv\"\n",
    "df = pd.read_csv(iris_data_url)\n",
    "df.describe()"
   ]
  },
  {
   "cell_type": "code",
   "execution_count": null,
   "id": "dc28c661",
   "metadata": {},
   "outputs": [],
   "source": [
    "df[df.sepal_width > df.sepal_width.quantile(.95)]"
   ]
  },
  {
   "cell_type": "code",
   "execution_count": null,
   "id": "966afca3",
   "metadata": {},
   "outputs": [],
   "source": [
    "df.columns"
   ]
  },
  {
   "cell_type": "code",
   "execution_count": null,
   "id": "4de42492",
   "metadata": {},
   "outputs": [],
   "source": [
    "data = FlowerData(df)\n",
    "data.df[data.df[FlowerSample.sepal_length] > 7]"
   ]
  },
  {
   "cell_type": "code",
   "execution_count": null,
   "id": "75fabb48",
   "metadata": {},
   "outputs": [],
   "source": [
    "df.dtypes"
   ]
  },
  {
   "cell_type": "code",
   "execution_count": null,
   "id": "b4c585cf",
   "metadata": {},
   "outputs": [],
   "source": []
  }
 ],
 "metadata": {
  "kernelspec": {
   "display_name": "Python 3 (ipykernel)",
   "language": "python",
   "name": "python3"
  },
  "language_info": {
   "codemirror_mode": {
    "name": "ipython",
    "version": 3
   },
   "file_extension": ".py",
   "mimetype": "text/x-python",
   "name": "python",
   "nbconvert_exporter": "python",
   "pygments_lexer": "ipython3",
   "version": "3.10.2"
  }
 },
 "nbformat": 4,
 "nbformat_minor": 5
}
